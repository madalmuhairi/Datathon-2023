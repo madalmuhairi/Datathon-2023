{
 "cells": [
  {
   "cell_type": "code",
   "execution_count": 1,
   "metadata": {},
   "outputs": [],
   "source": [
    "import pandas as pd # Loading up pandas to load the excel files into dataframes\n",
    "pd.set_option(\"display.max_rows\", None) # So that the jupyter notebook prints all of the rows instead of truncating them"
   ]
  },
  {
   "cell_type": "markdown",
   "metadata": {},
   "source": [
    "## Setting up class for Dataset for easier setting up of dataframes"
   ]
  },
  {
   "cell_type": "code",
   "execution_count": 2,
   "metadata": {},
   "outputs": [],
   "source": [
    "class Dataset():\n",
    "    Datasets = [] # List of all datasets\n",
    "    def __init__(self, type, path, name):\n",
    "        self.type = type # filetype so we can load it using the correct function\n",
    "        self.path = path # file path so we can access the file from it's location if it isn't in the same directory\n",
    "        self.name = name # File name to be referred to when working\n",
    "        \n",
    "        if self.type == \"Excel\":\n",
    "            self.df = pd.read_excel(self.path) # Loads up the file if it's in .xlsx format\n",
    "        elif self.type == \"csv\":\n",
    "            self.df = pd.read_csv(self.path) # Loads up the file if it's in .csv format\n",
    "        \n",
    "        self.columns = list(self.df.columns.values) # Makes a list of all the column names\n",
    "        \n",
    "        Dataset.Datasets.append(self) # Adds the object to the list of the datasets"
   ]
  },
  {
   "cell_type": "markdown",
   "metadata": {},
   "source": [
    "## Loading up the dataset"
   ]
  },
  {
   "cell_type": "code",
   "execution_count": 3,
   "metadata": {},
   "outputs": [],
   "source": [
    "Digital_Connectivity = Dataset(\"csv\", \"./digitalconnectivity.csv\", \"Digital Connectivity\") #Setting up object\n",
    "dfDC = Digital_Connectivity #renaming it to something easier to type, keeping original name as a separate variable"
   ]
  },
  {
   "cell_type": "code",
   "execution_count": 4,
   "metadata": {},
   "outputs": [
    {
     "data": {
      "text/html": [
       "<div>\n",
       "<style scoped>\n",
       "    .dataframe tbody tr th:only-of-type {\n",
       "        vertical-align: middle;\n",
       "    }\n",
       "\n",
       "    .dataframe tbody tr th {\n",
       "        vertical-align: top;\n",
       "    }\n",
       "\n",
       "    .dataframe thead th {\n",
       "        text-align: right;\n",
       "    }\n",
       "</style>\n",
       "<table border=\"1\" class=\"dataframe\">\n",
       "  <thead>\n",
       "    <tr style=\"text-align: right;\">\n",
       "      <th></th>\n",
       "      <th>Countries and areas</th>\n",
       "      <th>Region</th>\n",
       "      <th>Income Group</th>\n",
       "      <th>Total</th>\n",
       "    </tr>\n",
       "  </thead>\n",
       "  <tbody>\n",
       "    <tr>\n",
       "      <th>1</th>\n",
       "      <td>Algeria</td>\n",
       "      <td>MENA</td>\n",
       "      <td>Upper middle income (UM)</td>\n",
       "      <td>24%</td>\n",
       "    </tr>\n",
       "    <tr>\n",
       "      <th>2</th>\n",
       "      <td>Angola</td>\n",
       "      <td>SSA</td>\n",
       "      <td>Lower middle income (LM)</td>\n",
       "      <td>17%</td>\n",
       "    </tr>\n",
       "    <tr>\n",
       "      <th>3</th>\n",
       "      <td>Argentina</td>\n",
       "      <td>LAC</td>\n",
       "      <td>Upper middle income (UM)</td>\n",
       "      <td>40%</td>\n",
       "    </tr>\n",
       "    <tr>\n",
       "      <th>4</th>\n",
       "      <td>Armenia</td>\n",
       "      <td>ECA</td>\n",
       "      <td>Upper middle income (UM)</td>\n",
       "      <td>81%</td>\n",
       "    </tr>\n",
       "    <tr>\n",
       "      <th>5</th>\n",
       "      <td>Bangladesh</td>\n",
       "      <td>SA</td>\n",
       "      <td>Lower middle income (LM)</td>\n",
       "      <td>37%</td>\n",
       "    </tr>\n",
       "  </tbody>\n",
       "</table>\n",
       "</div>"
      ],
      "text/plain": [
       "  Countries and areas Region              Income Group Total\n",
       "1             Algeria   MENA  Upper middle income (UM)   24%\n",
       "2              Angola    SSA  Lower middle income (LM)   17%\n",
       "3           Argentina    LAC  Upper middle income (UM)   40%\n",
       "4             Armenia    ECA  Upper middle income (UM)   81%\n",
       "5          Bangladesh     SA  Lower middle income (LM)   37%"
      ]
     },
     "execution_count": 4,
     "metadata": {},
     "output_type": "execute_result"
    }
   ],
   "source": [
    "# Deleting rows / columns that weren't needed, keeping only the data needed for the presentation\n",
    "dfDC.df = dfDC.df.drop(columns=[\"ISO3\",\"Sub-region\", \"Residence\", \"Unnamed: 7\", \"Wealth quintile\", \"Unnamed: 9\", \"Source\", \"Unnamed: 11\"])\n",
    "dfDC.df = dfDC.df.drop(labels=[0], axis=0)\n",
    "dfDC.df.head() # Printing to make sure the dropping went correct"
   ]
  },
  {
   "cell_type": "markdown",
   "metadata": {},
   "source": [
    "## Exporting"
   ]
  },
  {
   "cell_type": "code",
   "execution_count": 5,
   "metadata": {},
   "outputs": [],
   "source": [
    "Regions = dfDC.df[\"Region\"].unique() #List of unique region names, to export countries by region\n",
    "\n",
    "for name in Regions: #For every region:\n",
    "    x = dfDC.df.loc[dfDC.df[\"Region\"] == name] #Create a new Dataframe of the countries in that region\n",
    "    filename = \"./DigitalConnectivity/\" + str(name) + \".xlsx\" #name of file and its desired path, as an excel file\n",
    "    \n",
    "    x.to_csv(filename, index=False) #Export to filename, without index"
   ]
  }
 ],
 "metadata": {
  "kernelspec": {
   "display_name": "Python 3",
   "language": "python",
   "name": "python3"
  },
  "language_info": {
   "codemirror_mode": {
    "name": "ipython",
    "version": 3
   },
   "file_extension": ".py",
   "mimetype": "text/x-python",
   "name": "python",
   "nbconvert_exporter": "python",
   "pygments_lexer": "ipython3",
   "version": "3.11.1"
  }
 },
 "nbformat": 4,
 "nbformat_minor": 2
}
